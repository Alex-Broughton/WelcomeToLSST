{
 "cells": [
  {
   "cell_type": "markdown",
   "id": "47e1358a",
   "metadata": {},
   "source": [
    "# Introduction to Nightly Validation Data Products\n",
    "\n",
    "Contact author: Alex Broughton\n"
   ]
  },
  {
   "cell_type": "markdown",
   "id": "3598fd4f",
   "metadata": {},
   "source": [
    "## Introduction\n",
    "\n",
    "In this tutorial, we will learn\n",
    "\n",
    "- What data set types are availble after every night\n",
    "- Look at some catalog data\n",
    "- Validate nightly performance"
   ]
  },
  {
   "cell_type": "markdown",
   "id": "896eab59",
   "metadata": {},
   "source": [
    "## 1.0 Set Up"
   ]
  },
  {
   "cell_type": "markdown",
   "id": "6b699e4a-983d-4f93-b4d3-c245a0e62b7e",
   "metadata": {},
   "source": [
    "The primary access point for data is the Rubin Science Platform (RSP). For most commissioning integration, testing, and verification and validation (V&V) tests of the telescope system and image quality, we will be using the USDF (ultimately, most major science pipelines will happen on NERSC). \n",
    "\n",
    "Luckily for you, all LSST-distributed software comes already installed for you!"
   ]
  },
  {
   "cell_type": "markdown",
   "id": "acedaafa-ca14-4ad9-ab19-37e507c46469",
   "metadata": {},
   "source": [
    "Environments with different versions of the DM Stack are in:\n",
    "\n",
    "        /opt/lsst/software/stack                    (on RSP)\n",
    "        /sdf/group/rubin/sw/                        (on USDF terminal)\n",
    "\n",
    "If you want to add your own configuration to your LSST environment startup on the RSP in the\n",
    "LSST iPython kernel, create a sourceable shell fragment in:\n",
    "\n",
    "        ${HOME}/notebooks/.user_setups\n",
    "\n",
    "and it will be sourced during kernel startup.\n",
    "\n",
    "Find useful documentation for the software and Notebook Aspect at:\n",
    "- https://pipelines.lsst.io\n",
    "- https://rsp.lsst.io"
   ]
  },
  {
   "cell_type": "markdown",
   "id": "e99b803d-bfb3-4314-9f68-1f2855e3d523",
   "metadata": {},
   "source": [
    "**Note: if you want to do this yourself (e.g. you want to run the DM Stack on your own terminal shell), you need to install the version you want and then set it up, like so:**\n",
    "```\n",
    "source /sdf/group/rubin/sw/${VERSION}/loadLSST.bash\n",
    "setup lsst_sitcom -t ${VERSION}\n",
    "```"
   ]
  },
  {
   "cell_type": "markdown",
   "id": "3ef54242-7e8f-47ce-8ba4-c669912c7443",
   "metadata": {},
   "source": [
    "When you start up the RSP, selecting the \"Recommended\" release loads in an envirnonment with the most recent stable release of the DM Stack to your kernel. To check that it is loaded, you can run:"
   ]
  },
  {
   "cell_type": "code",
   "execution_count": null,
   "id": "1eb34285-c220-43e5-b0f2-1f262dfb21fc",
   "metadata": {},
   "outputs": [],
   "source": [
    "! eups list -s | grep lsst_distrib\n",
    "! eups list -s | grep ip_isr\n",
    "! eups list -s | grep cp_pipe"
   ]
  },
  {
   "cell_type": "code",
   "execution_count": null,
   "id": "dff335a8",
   "metadata": {},
   "outputs": [],
   "source": [
    "# For this tutorial, we will need:\n",
    "import numpy as np\n",
    "import matplotlib.pyplot as plt\n",
    "\n",
    "from lsst.daf.butler import Butler\n",
    "from lsst.obs.lsst import LsstComCam\n",
    "\n",
    "# Camera object\n",
    "camera = LsstComCam.getCamera()\n"
   ]
  },
  {
   "cell_type": "markdown",
   "id": "be8c306f-2f7d-4bf5-a81d-19546325a097",
   "metadata": {
    "execution": {
     "iopub.execute_input": "2024-11-07T07:07:10.932899Z",
     "iopub.status.busy": "2024-11-07T07:07:10.932266Z",
     "iopub.status.idle": "2024-11-07T07:07:10.936278Z",
     "shell.execute_reply": "2024-11-07T07:07:10.935782Z",
     "shell.execute_reply.started": "2024-11-07T07:07:10.932882Z"
    }
   },
   "source": [
    "## 2.0 Data Access Using the Butler"
   ]
  },
  {
   "cell_type": "markdown",
   "id": "0c578da4-824c-4d63-9130-5a843b0ca467",
   "metadata": {},
   "source": [
    "**Data** are stored in **repositories** as **collections** of **dataset types**, and are found by their associated **dimensions**.\n",
    "\n",
    "The repositories can be found here: `/sdf/group/rubin/repo`"
   ]
  },
  {
   "cell_type": "code",
   "execution_count": null,
   "id": "c9d98a9f-c1b9-4c86-a345-056f47e4da00",
   "metadata": {},
   "outputs": [],
   "source": [
    "# Each repository has a butler\n",
    "butler = Butler(\"/repo/embargo\")\n",
    "registry = butler.registry # Contains list of available data (basically a precompiled catalog of dataset type: dimensions)\n"
   ]
  },
  {
   "cell_type": "markdown",
   "id": "56ae0d3f-c2ab-4d83-92f1-7547f9ac9293",
   "metadata": {
    "execution": {
     "iopub.execute_input": "2024-11-07T20:26:31.094153Z",
     "iopub.status.busy": "2024-11-07T20:26:31.093945Z",
     "iopub.status.idle": "2024-11-07T20:26:31.098863Z",
     "shell.execute_reply": "2024-11-07T20:26:31.098269Z",
     "shell.execute_reply.started": "2024-11-07T20:26:31.094137Z"
    }
   },
   "source": [
    "What collection should we look in?\n",
    "\n",
    "<br>Anytime someone runs a pipeline on some data, it will produce other dataset types (e.g. `postISRCCD`, `calexp`, `finalized_src_table`, `diaObject`, etc.) in a new collection (under `u/{username}/your/collection/name/datatimestamp}`) that will be CHAINED to all the input collections.\n"
   ]
  },
  {
   "cell_type": "code",
   "execution_count": null,
   "id": "a393323f-865d-4718-a5a0-2f02754a3c32",
   "metadata": {},
   "outputs": [],
   "source": [
    "# Users have generated many collections in this repository over the past month or so:\n",
    "registry.queryCollections().__len__()"
   ]
  },
  {
   "cell_type": "markdown",
   "id": "1356951c-2a3f-4783-800f-f70598c998a2",
   "metadata": {},
   "source": [
    "In fact, the `LSSTComCam/calib` collection is a chain of collections containing different dataset types for the different types of calibrations:"
   ]
  },
  {
   "cell_type": "code",
   "execution_count": null,
   "id": "b99088de-3142-423f-a063-2a5e0211946c",
   "metadata": {},
   "outputs": [],
   "source": [
    "collections = registry.queryCollections(\"LSSTComCam/calib/*\")\n",
    "\n",
    "for col in collections:\n",
    "    print(col)"
   ]
  },
  {
   "cell_type": "markdown",
   "id": "62894de9-4b86-497b-a0b2-dc32d09a400e",
   "metadata": {
    "execution": {
     "iopub.execute_input": "2024-11-07T20:32:07.967335Z",
     "iopub.status.busy": "2024-11-07T20:32:07.967112Z",
     "iopub.status.idle": "2024-11-07T20:32:07.970649Z",
     "shell.execute_reply": "2024-11-07T20:32:07.970173Z",
     "shell.execute_reply.started": "2024-11-07T20:32:07.967320Z"
    }
   },
   "source": [
    "What data products (data types) are contained across these collections?"
   ]
  },
  {
   "cell_type": "code",
   "execution_count": null,
   "id": "a7d0b09f-a025-47ee-bb1c-d1d9ab19239c",
   "metadata": {},
   "outputs": [],
   "source": [
    "summary = butler.registry.getCollectionSummary('LSSTComCam/calib')\n",
    "datasetTypes = list(summary.dataset_types)\n",
    "for dt in datasetTypes:\n",
    "    print(dt)"
   ]
  },
  {
   "cell_type": "markdown",
   "id": "d3695706-86d6-4b95-852c-da9283878135",
   "metadata": {},
   "source": [
    "<br>We generated our own collection by running our own pipeline. Let's find our collection and see what data products (data types) we produced!"
   ]
  },
  {
   "cell_type": "code",
   "execution_count": null,
   "id": "eea98382-fded-4d2c-8424-860701984459",
   "metadata": {},
   "outputs": [],
   "source": [
    "summary = butler.registry.getCollectionSummary('LSSTComCam/nightlyValidation')\n",
    "datasetTypes = list(summary.dataset_types)\n",
    "for dt in datasetTypes:\n",
    "    print(dt)"
   ]
  },
  {
   "cell_type": "markdown",
   "id": "1b032ca8-3662-478a-b75d-2b84e5cbf1d8",
   "metadata": {
    "execution": {
     "iopub.execute_input": "2024-11-07T20:48:46.819001Z",
     "iopub.status.busy": "2024-11-07T20:48:46.818212Z",
     "iopub.status.idle": "2024-11-07T20:48:46.822261Z",
     "shell.execute_reply": "2024-11-07T20:48:46.821799Z",
     "shell.execute_reply.started": "2024-11-07T20:48:46.818971Z"
    }
   },
   "source": [
    "## 2.0 WOW! Look at all these cool data products! What should we look at first?"
   ]
  },
  {
   "cell_type": "markdown",
   "id": "3d34b680-ae29-4316-9e95-1677b5d42f66",
   "metadata": {
    "execution": {
     "iopub.execute_input": "2024-11-07T20:31:37.647841Z",
     "iopub.status.busy": "2024-11-07T20:31:37.647628Z",
     "iopub.status.idle": "2024-11-07T20:31:37.651594Z",
     "shell.execute_reply": "2024-11-07T20:31:37.651139Z",
     "shell.execute_reply.started": "2024-11-07T20:31:37.647825Z"
    }
   },
   "source": [
    "Let's look at an image."
   ]
  },
  {
   "cell_type": "code",
   "execution_count": null,
   "id": "9da0bdc8-3a25-4803-8b82-9c8edf31569a",
   "metadata": {},
   "outputs": [],
   "source": [
    "collections = ['LSSTComCam/nightlyValidation'] # Note: we can also search multiple collections if we wanted to!"
   ]
  },
  {
   "cell_type": "code",
   "execution_count": null,
   "id": "905b4e8f-8ea1-45ec-b23f-ccb55ef79607",
   "metadata": {},
   "outputs": [],
   "source": [
    "# We generated a collection ourselves!\n",
    "# Lets fund the \n",
    "refs = list(registry.queryDatasets(\n",
    "    \"postISRCCD\",\n",
    "    instrument=\"LSSTComCam\",\n",
    "    detector=4,\n",
    "    where=\"exposure.observation_reason='science'\",\n",
    "    collections=collections,\n",
    "))\n",
    "\n",
    "print(f\"Found {len(refs)} references of datasetType 'postISRCCD' !\")"
   ]
  },
  {
   "cell_type": "code",
   "execution_count": null,
   "id": "72f41278-5ade-49c0-a410-bd36ab34042b",
   "metadata": {},
   "outputs": [],
   "source": [
    "# Lets look at one of these references:\n",
    "ref = refs[1]\n",
    "ref"
   ]
  },
  {
   "cell_type": "markdown",
   "id": "6cfd7051-2866-4a8d-8919-f74be8366c19",
   "metadata": {},
   "source": [
    "This reference and dataId corresponds to this particular image, and we can use this reference to get any data product associated with this specific exposure (from `raw` $\\rightarrow$ `finalized_src_table`)"
   ]
  },
  {
   "cell_type": "code",
   "execution_count": null,
   "id": "7080ec9d-f209-4c4b-bcb8-120850d2ea3e",
   "metadata": {},
   "outputs": [],
   "source": [
    "# Now that we have a reference for this image, \n",
    "# we can ask the butler to go and get it for us:\n",
    "postISRCCD = butler.get('postISRCCD', dataId=ref.dataId, collections=collections)"
   ]
  },
  {
   "cell_type": "code",
   "execution_count": null,
   "id": "3853de39-0c3b-4b1d-8910-75a0a3a693d3",
   "metadata": {},
   "outputs": [],
   "source": [
    "plt.hist(postISRCCD.image.array.ravel(), bins=100)\n",
    "plt.yscale('log')"
   ]
  },
  {
   "cell_type": "code",
   "execution_count": null,
   "id": "1cd24290-f239-43f0-b57f-7329905fefd3",
   "metadata": {},
   "outputs": [],
   "source": [
    "from matplotlib.colors import LogNorm, SymLogNorm, AsinhNorm\n",
    "norm = LogNorm(vmin=600, vmax=5000)\n",
    "\n",
    "plt.figure(figsize=(10,10))\n",
    "plt.title(ref.dataId)\n",
    "plt.imshow(postISRCCD.image.array, origin='lower',norm=norm, cmap='binary_r')\n",
    "plt.colorbar(shrink=0.75)"
   ]
  },
  {
   "cell_type": "markdown",
   "id": "63e96f2c-c9f9-42e6-a2a2-7aba28512747",
   "metadata": {},
   "source": [
    "# 3.0 Data Tables"
   ]
  },
  {
   "cell_type": "code",
   "execution_count": null,
   "id": "c2bc2c78-2164-4542-a099-ca0feaa21771",
   "metadata": {},
   "outputs": [],
   "source": [
    "# We generated a collection ourselves!\n",
    "# Lets fund the \n",
    "refs = list(registry.queryDatasets(\n",
    "    \"src\",\n",
    "    instrument=\"LSSTComCam\",\n",
    "    detector=4,\n",
    "    collections=collections,\n",
    "))\n",
    "\n",
    "print(f\"Found {len(refs)} references of datasetType 'postISRCCD' !\")"
   ]
  },
  {
   "cell_type": "code",
   "execution_count": null,
   "id": "ecd4d259-d4d8-43b5-8e5d-275d99baeaa8",
   "metadata": {},
   "outputs": [],
   "source": [
    "refs[0].dataId"
   ]
  },
  {
   "cell_type": "code",
   "execution_count": null,
   "id": "ba13bbd4-b30c-4bab-a484-066842ed77d9",
   "metadata": {},
   "outputs": [],
   "source": [
    "# Now that we have a reference for this image, \n",
    "# we can ask the butler to go and get it for us\n",
    "src = butler.get('src', dataId=refs[0].dataId, collections=collections)\n",
    "postISRCCD = butler.get('postISRCCD', dataId=refs[0].dataId, exposure=refs[0].dataId['visit'],collections=collections)"
   ]
  },
  {
   "cell_type": "code",
   "execution_count": null,
   "id": "e04ed519-96d3-43d8-b2ad-27d76188cc28",
   "metadata": {},
   "outputs": [],
   "source": [
    "obj_table = src.asAstropy()\n",
    "obj_table"
   ]
  },
  {
   "cell_type": "code",
   "execution_count": null,
   "id": "170c3b34-ce61-4e03-817a-62de785b478a",
   "metadata": {},
   "outputs": [],
   "source": [
    "for col in obj_table.columns:\n",
    "    print(col)"
   ]
  },
  {
   "cell_type": "code",
   "execution_count": null,
   "id": "e372cf27-5be2-4cc3-b3a7-48eb584022f2",
   "metadata": {},
   "outputs": [],
   "source": [
    "plt.figure(figsize=(10,10))\n",
    "plt.title(ref.dataId)\n",
    "plt.imshow(postISRCCD.image.array, origin='lower', norm=norm, cmap='binary_r')\n",
    "plt.colorbar(shrink=0.75)\n",
    "plt.scatter(obj_table['slot_Centroid_x'], obj_table['slot_Centroid_y'], marker=\"o\", facecolor=None, edgecolor=\"blue\", linewidth=1)\n",
    "\n"
   ]
  },
  {
   "cell_type": "code",
   "execution_count": null,
   "id": "49d5f490-97b4-490e-8e56-412b545323f6",
   "metadata": {},
   "outputs": [],
   "source": [
    "good = obj_table['calib_psf_used']"
   ]
  },
  {
   "cell_type": "code",
   "execution_count": null,
   "id": "2bbca4a3-3004-4e31-bc50-01e07bdde5d8",
   "metadata": {},
   "outputs": [],
   "source": [
    "plt.figure(figsize=(10,10))\n",
    "plt.title(ref.dataId)\n",
    "plt.imshow(postISRCCD.image.array, origin='lower', norm=norm, cmap='binary_r')\n",
    "plt.colorbar(shrink=0.75)\n",
    "plt.scatter(obj_table['slot_Centroid_x'][good], obj_table['slot_Centroid_y'][good], marker=\"o\", facecolor=None, edgecolor=\"blue\", linewidth=1)\n",
    "\n"
   ]
  },
  {
   "cell_type": "code",
   "execution_count": null,
   "id": "bdc51321-67b3-4082-984c-d5583684077f",
   "metadata": {},
   "outputs": [],
   "source": [
    "plt.scatter(obj_table['base_GaussianFlux_instFlux'][good], obj_table['slot_PsfShape_xx'][good])"
   ]
  },
  {
   "cell_type": "code",
   "execution_count": null,
   "id": "605fc2e6-9d81-40de-be2d-526b252dee7d",
   "metadata": {},
   "outputs": [],
   "source": []
  }
 ],
 "metadata": {
  "kernelspec": {
   "display_name": "Python 3 (ipykernel)",
   "language": "python",
   "name": "python3"
  },
  "language_info": {
   "codemirror_mode": {
    "name": "ipython",
    "version": 3
   },
   "file_extension": ".py",
   "mimetype": "text/x-python",
   "name": "python",
   "nbconvert_exporter": "python",
   "pygments_lexer": "ipython3",
   "version": "3.11.9"
  }
 },
 "nbformat": 4,
 "nbformat_minor": 5
}
