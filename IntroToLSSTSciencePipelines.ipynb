{
 "cells": [
  {
   "cell_type": "markdown",
   "id": "47e1358a",
   "metadata": {},
   "source": [
    "# Introduction to Rubin Observatory\n",
    "\n",
    "Contact author: Alex Broughton\n"
   ]
  },
  {
   "cell_type": "markdown",
   "id": "3598fd4f",
   "metadata": {},
   "source": [
    "## Introduction\n",
    "\n",
    "**Welcome to Rubin Observatory!** The Legacy Survey of Space and Time (LSST) will produce a vast amount of data, and it will be important to be able to find, visualize, reduce, and analyze this data. Data management for LSST is handled by the Data Management (DM) Stack, which encompasses all the software for handling (middleware), processing (raw images $\\rightarrow$ photometric/astrometric-ally calibrated catalogs), and science. All LSST images and data will pass thorough this data pipeline.\n",
    "\n",
    "In this tutorial, we will learn\n",
    "\n",
    "- Learn how data is organized on the US Data Facility (USDF)\n",
    "- Learn how to access embargoed summit data\n",
    "- Learn how to visualize that data\n",
    "- Process an image through your first data pipeline!"
   ]
  },
  {
   "cell_type": "markdown",
   "id": "896eab59",
   "metadata": {},
   "source": [
    "## 1.0 Set Up"
   ]
  },
  {
   "cell_type": "markdown",
   "id": "6b699e4a-983d-4f93-b4d3-c245a0e62b7e",
   "metadata": {},
   "source": [
    "The primary access point for data is the Rubin Science Platform (RSP). For most commissioning integration, testing, and verification and validation (V&V) tests of the telescope system and image quality, we will be using the USDF (ultimately, most major science pipelines will happen on NERSC). \n",
    "\n",
    "Luckily for you, all LSST-distributed software comes already installed for you!"
   ]
  },
  {
   "cell_type": "markdown",
   "id": "acedaafa-ca14-4ad9-ab19-37e507c46469",
   "metadata": {},
   "source": [
    "Environments with different versions of the DM Stack are in:\n",
    "\n",
    "        /opt/lsst/software/stack                    (on RSP)\n",
    "        /sdf/group/rubin/sw/                        (on USDF terminal)\n",
    "\n",
    "If you want to add your own configuration to your LSST environment startup on the RSP in the\n",
    "LSST iPython kernel, create a sourceable shell fragment in:\n",
    "\n",
    "        ${HOME}/notebooks/.user_setups\n",
    "\n",
    "and it will be sourced during kernel startup.\n",
    "\n",
    "Find useful documentation for the software and Notebook Aspect at:\n",
    "- https://pipelines.lsst.io\n",
    "- https://rsp.lsst.io"
   ]
  },
  {
   "cell_type": "markdown",
   "id": "e99b803d-bfb3-4314-9f68-1f2855e3d523",
   "metadata": {},
   "source": [
    "**Note: if you want to do this yourself (e.g. you want to run the DM Stack on your own terminal shell), you need to install the version you want and then set it up, like so:**\n",
    "```\n",
    "source /sdf/group/rubin/sw/${VERSION}/loadLSST.bash\n",
    "setup lsst_sitcom -t ${VERSION}\n",
    "```"
   ]
  },
  {
   "cell_type": "markdown",
   "id": "3ef54242-7e8f-47ce-8ba4-c669912c7443",
   "metadata": {},
   "source": [
    "When you start up the RSP, selecting the \"Recommended\" release loads in an envirnonment with the most recent stable release of the DM Stack to your kernel. To check that it is loaded, you can run:"
   ]
  },
  {
   "cell_type": "code",
   "execution_count": null,
   "id": "1eb34285-c220-43e5-b0f2-1f262dfb21fc",
   "metadata": {},
   "outputs": [],
   "source": [
    "! eups list -s | grep lsst_distrib\n",
    "! eups list -s | grep ip_isr\n",
    "! eups list -s | grep cp_pipe"
   ]
  },
  {
   "cell_type": "code",
   "execution_count": null,
   "id": "dff335a8",
   "metadata": {},
   "outputs": [],
   "source": [
    "# For this tutorial, we will need:\n",
    "import numpy as np\n",
    "import matplotlib.pyplot as plt\n",
    "\n",
    "from lsst.daf.butler import Butler\n",
    "from lsst.obs.lsst import LsstComCam\n",
    "from lsst.ip.isr import IsrTaskLSST\n",
    "from lsst.pipe.tasks.visualizeVisit import VisualizeMosaicExpTask\n",
    "\n",
    "# Camera object\n",
    "camera = LsstComCam.getCamera()\n",
    "\n",
    "# This will be a useful function for later\n",
    "def getRectPatchFromBBox(bbox, color, linestyle='-'):\n",
    "    return patches.Rectangle(\n",
    "        (bbox.minX, bbox.minY), \n",
    "        bbox.width, bbox.height, \n",
    "        linewidth=1, \n",
    "        linestyle=linestyle,\n",
    "        edgecolor=color, \n",
    "        facecolor='none',\n",
    "    )"
   ]
  },
  {
   "cell_type": "markdown",
   "id": "a67543f7-72ba-4fa5-9002-efaf16fa789f",
   "metadata": {},
   "source": [
    "\\***NOTE about workspaces on USDF**:\n",
    "<br>You are given 4 personal direcotries on the system: \n",
    "- `home`: `/sdf/home/{first character}/{username}`              (25GB available)\n",
    "- `rubin-user`: `/sdf/group/rubin/user/{username}`              (25TB available)\n",
    "- `rubin-user-data`: `/sdf/data/rubin/user/{username}`          (1 TB available)\n",
    "- `scratch`: `/sdf/scratch/users/{first character}/{username}`  (IDK I personally treat this like a blackhole)\n"
   ]
  },
  {
   "cell_type": "markdown",
   "id": "be8c306f-2f7d-4bf5-a81d-19546325a097",
   "metadata": {
    "execution": {
     "iopub.execute_input": "2024-11-07T07:07:10.932899Z",
     "iopub.status.busy": "2024-11-07T07:07:10.932266Z",
     "iopub.status.idle": "2024-11-07T07:07:10.936278Z",
     "shell.execute_reply": "2024-11-07T07:07:10.935782Z",
     "shell.execute_reply.started": "2024-11-07T07:07:10.932882Z"
    }
   },
   "source": [
    "## 2.0 Data Access Using the Butler"
   ]
  },
  {
   "cell_type": "markdown",
   "id": "0c578da4-824c-4d63-9130-5a843b0ca467",
   "metadata": {},
   "source": [
    "**Data** are stored in **repositories** as **collections** of **dataset types**, and are found by their associated **dimensions**.\n",
    "\n",
    "The repositories can be found here: `/sdf/group/rubin/repo`"
   ]
  },
  {
   "cell_type": "code",
   "execution_count": null,
   "id": "c9d98a9f-c1b9-4c86-a345-056f47e4da00",
   "metadata": {},
   "outputs": [],
   "source": [
    "# Each repository has a butler\n",
    "butler = Butler(\"/repo/embargo\")\n",
    "registry = butler.registry # Contains list of available data (basically a precompiled catalog of dataset type: dimensions)\n"
   ]
  },
  {
   "cell_type": "code",
   "execution_count": null,
   "id": "2d7452c2-2ca1-4145-8168-09d0489223dd",
   "metadata": {},
   "outputs": [],
   "source": [
    "# Other repositories\n",
    "! ls /sdf/group/rubin/repo"
   ]
  },
  {
   "cell_type": "markdown",
   "id": "03acf3ea-4fb6-45e0-84f4-83afad6696ff",
   "metadata": {
    "execution": {
     "iopub.execute_input": "2024-11-07T17:49:16.155811Z",
     "iopub.status.busy": "2024-11-07T17:49:16.155281Z",
     "iopub.status.idle": "2024-11-07T17:49:16.328961Z",
     "shell.execute_reply": "2024-11-07T17:49:16.328558Z",
     "shell.execute_reply.started": "2024-11-07T17:49:16.155797Z"
    }
   },
   "source": [
    "There are two collections in every repository when it is first set up:\n",
    "```\n",
    "    {Instrument}/raw/all\n",
    "    {Instrument}/calib\n",
    "```\n",
    "Notes:\n",
    "- When data is taken, it is \"ingested\" into the `{Instrument}/raw/all` collection with the dataset type of `raw`. E.g. in `/repo/embargo` this happens immediately, and then after 80 hours for it to get ingested into `/repo/main`.\n",
    "- Calibrations will be made and processed and stored inthe `{Instrument}/calib` collection with different dataset types for different types of calibrations (e.g. `bias`, `dark`, `flat_r`, `flat_i`, etc.).\n",
    "- Anytime someone runs a pipeline on some data, it will produce other dataset types (e.g. `postISRCCD`, `calexp`, `finalized_src_table`, `diaObject`, etc.) in a new collection (under `u/{username}/your/collection/name/datatimestamp}`) that will be CHAINED to all the input collections"
   ]
  },
  {
   "cell_type": "code",
   "execution_count": null,
   "id": "a393323f-865d-4718-a5a0-2f02754a3c32",
   "metadata": {},
   "outputs": [],
   "source": [
    "# Anytime someone \n",
    "registry.queryCollections().__len__()"
   ]
  },
  {
   "cell_type": "code",
   "execution_count": null,
   "id": "905b4e8f-8ea1-45ec-b23f-ccb55ef79607",
   "metadata": {},
   "outputs": [],
   "source": [
    "What data is available?\n",
    "refs = list(registry.queryDatasets(\n",
    "    \"raw\",\n",
    "    instrument=\"LSSTComCam\",\n",
    "    where=\"exposure.day_obs=20241024 and exposure.seq_num=55\",\n",
    "    collections=\"LSSTComCam/raw/all\",\n",
    "))\n",
    "\n",
    "print(f\"Found {len(refs)} references of datasetType 'raw' !\")"
   ]
  },
  {
   "cell_type": "code",
   "execution_count": null,
   "id": "72f41278-5ade-49c0-a410-bd36ab34042b",
   "metadata": {},
   "outputs": [],
   "source": [
    "# Lets look at one of these references:\n",
    "ref = refs[0]\n",
    "ref"
   ]
  },
  {
   "cell_type": "code",
   "execution_count": null,
   "id": "7080ec9d-f209-4c4b-bcb8-120850d2ea3e",
   "metadata": {},
   "outputs": [],
   "source": [
    "# Now that we have a reference for this image, \n",
    "# we can ask the butler to go and get it for us:\n",
    "exposure = butler.get('raw', dataId=ref.dataId, collections=\"LSSTComCam/raw/all\")"
   ]
  },
  {
   "cell_type": "markdown",
   "id": "539f4a4c-99ba-4c16-986a-03131901d922",
   "metadata": {
    "execution": {
     "iopub.execute_input": "2024-11-07T17:27:49.749356Z",
     "iopub.status.busy": "2024-11-07T17:27:49.749158Z",
     "iopub.status.idle": "2024-11-07T17:27:49.752537Z",
     "shell.execute_reply": "2024-11-07T17:27:49.752046Z",
     "shell.execute_reply.started": "2024-11-07T17:27:49.749341Z"
    }
   },
   "source": [
    "### Some properties of the exposure:"
   ]
  },
  {
   "cell_type": "code",
   "execution_count": null,
   "id": "5ffc69be-1fa0-4df9-b2c2-a24268ade7dd",
   "metadata": {},
   "outputs": [],
   "source": [
    "# Image info:\n",
    "#print(camera.getNameMap())\n",
    "print(exposure.getMetadata())"
   ]
  },
  {
   "cell_type": "code",
   "execution_count": null,
   "id": "4ec8710d-1922-49d0-93cf-af4c80598491",
   "metadata": {},
   "outputs": [],
   "source": [
    "# Where the image lives\n",
    "print(\"Exposure\")\n",
    "print(type(exposure))\n",
    "print(type(exposure.getImage()))\n",
    "print(type(exposure.getImage().getArray()))\n",
    "\n",
    "print(\"\\nDetector\")\n",
    "detector = exposure.getDetector()\n",
    "print(type(detector))\n",
    "print(detector.getName())\n",
    "print(detector.getId())\n",
    "print(type(detector.getBBox()), detector.getBBox())\n",
    "\n",
    "print(\"\\nAmplifier\")\n",
    "amplifiers = exposure.getDetector().getAmplifiers()\n",
    "amp = amplifiers[0]\n",
    "print(type(amp))\n",
    "print([amp.getName() for amp in amplifiers])\n",
    "print( type(amp.getBBox()), amp.getBBox())"
   ]
  },
  {
   "cell_type": "markdown",
   "id": "0acd1a30-ae20-4b06-9e6c-c97b9e7453f6",
   "metadata": {
    "execution": {
     "iopub.execute_input": "2024-11-07T17:44:52.175023Z",
     "iopub.status.busy": "2024-11-07T17:44:52.174324Z",
     "iopub.status.idle": "2024-11-07T17:44:52.177672Z",
     "shell.execute_reply": "2024-11-07T17:44:52.177345Z",
     "shell.execute_reply.started": "2024-11-07T17:44:52.175004Z"
    }
   },
   "source": [
    "## 3.0 Visualize the image"
   ]
  },
  {
   "cell_type": "code",
   "execution_count": null,
   "id": "68991e79-a674-491f-bb6b-528b5121dca9",
   "metadata": {},
   "outputs": [],
   "source": [
    "plt.title(detector.getName())\n",
    "plt.imshow(exposure.image.array, origin='lower')\n",
    "for amp in amplifiers:\n",
    "    plt.text(\n",
    "        amp.getRawDataBBox().centerX - 150.,\n",
    "        amp.getRawDataBBox().centerY - 150., \n",
    "        amp.getName(),\n",
    "        c=\"w\",\n",
    "    )"
   ]
  },
  {
   "cell_type": "code",
   "execution_count": null,
   "id": "a01edddc-50c4-47c1-8659-102eac32b30b",
   "metadata": {},
   "outputs": [],
   "source": [
    "import matplotlib.patches as patches\n",
    "# Create a Rectangle patch\n",
    "s = amp.getRawHorizontalPrescanBBox()\n",
    "horizPrescan = patches.Rectangle((s.minX, s.minY), s.width, s.height, linewidth=1, edgecolor='r', facecolor='none')\n",
    "s = amp.getRawHorizontalOverscanBBox()\n",
    "horizOverscan = patches.Rectangle((s.minX, s.minY), s.width, s.height, linewidth=1, edgecolor='g', facecolor='none')\n",
    "s = amp.getRawVerticalOverscanBBox()\n",
    "verticalOverscan = patches.Rectangle((s.minX, s.minY), s.width, s.height, linewidth=1, edgecolor='b', facecolor='none')\n",
    "\n",
    "s = amp.getRawBBox()\n",
    "rawBBox = patches.Rectangle((s.minX, s.minY), s.width, s.height, linewidth=1, edgecolor='k', facecolor='none')\n",
    "s = amp.getRawDataBBox()\n",
    "rawDataBBox = patches.Rectangle((s.minX, s.minY), s.width, s.height, linewidth=1, linestyle=\"--\",edgecolor='k', facecolor='none')\n",
    "\n",
    "plt.imshow(exposure.image.array, origin='lower', cmap='binary')\n",
    "plt.gca().add_patch(horizPrescan) # red\n",
    "plt.gca().add_patch(horizOverscan) # green\n",
    "plt.gca().add_patch(verticalOverscan) # blue\n",
    "plt.gca().add_patch(rawBBox) # black\n",
    "plt.gca().add_patch(rawDataBBox) # black-dashed\n"
   ]
  },
  {
   "cell_type": "markdown",
   "id": "8ab371c1-0c92-4494-bdd7-0794ba6a0e82",
   "metadata": {
    "execution": {
     "iopub.execute_input": "2024-11-07T18:05:05.265162Z",
     "iopub.status.busy": "2024-11-07T18:05:05.264863Z",
     "iopub.status.idle": "2024-11-07T18:05:05.267386Z",
     "shell.execute_reply": "2024-11-07T18:05:05.267052Z",
     "shell.execute_reply.started": "2024-11-07T18:05:05.265148Z"
    }
   },
   "source": [
    "## 4.0 Run Instrument Signature Removal (ISR)"
   ]
  },
  {
   "cell_type": "markdown",
   "id": "ff10cedf-4156-40ac-83a0-d63ab8b2004e",
   "metadata": {},
   "source": [
    "This doesn't look much like an image. Let's clean it up!"
   ]
  },
  {
   "cell_type": "code",
   "execution_count": null,
   "id": "adbea2e3-aa1c-44b4-8085-556f228ebc5a",
   "metadata": {},
   "outputs": [],
   "source": [
    "%%time\n",
    "\n",
    "# We first need to get all our exposures and calibrations:\n",
    "exposures = []\n",
    "linearizers = []\n",
    "biases = []\n",
    "darks = []\n",
    "defects = []\n",
    "crosstalks = []\n",
    "ptcs = []\n",
    "\n",
    "for i, ref in enumerate(refs):\n",
    "    exposures.append(butler.get('raw', dataId=ref.dataId, physical_filter='pinhole', collections=\"LSSTComCam/raw/all\"))\n",
    "    linearizers.append(butler.get('linearizer', instrument='LSSTComCam', detector = exposures[i].detector.getId(), collections=\"LSSTComCam/calib\"))\n",
    "    darks.append(butler.get('dark', instrument='LSSTComCam', detector = exposures[i].detector.getId(), collections=\"LSSTComCam/calib\"))\n",
    "    biases.append(butler.get('bias', instrument='LSSTComCam', detector = exposures[i].detector.getId(), collections=\"LSSTComCam/calib\"))\n",
    "    defects.append(butler.get('defects', instrument='LSSTComCam', detector = exposures[i].detector.getId(), collections=\"LSSTComCam/calib\"))\n",
    "    crosstalks.append(butler.get('crosstalk', instrument='LSSTComCam', detector = exposures[i].detector.getId(), collections=\"LSSTComCam/calib\"))\n",
    "    ptcs.append(butler.get('ptc', instrument='LSSTComCam', detector = exposures[i].detector.getId(), collections=\"LSSTComCam/calib\"))"
   ]
  },
  {
   "cell_type": "code",
   "execution_count": null,
   "id": "648e4902-4d2d-4fdd-b1ce-c9aa8e3ad82c",
   "metadata": {},
   "outputs": [],
   "source": [
    "# Get the configurations for the task\n",
    "config = IsrTaskLSST.ConfigClass()\n",
    "config.doFlat = False\n",
    "config.doAssembleCcd = True\n",
    "config.doDeferredCharge = False\n",
    "config.doBrighterFatter = False\n",
    "config.doCalculateStatistics = True\n",
    "config.doStandardStatistics = True\n",
    "config.doBias=True\n",
    "config.doDark=True\n",
    "config.isrStats.doCtiStatistics = True\n",
    "task = IsrTaskLSST(config=config)"
   ]
  },
  {
   "cell_type": "code",
   "execution_count": null,
   "id": "38fc720a-684f-42c4-9979-77a117508cf9",
   "metadata": {},
   "outputs": [],
   "source": [
    "rs = []\n",
    "for i, exposure in enumerate(exposures):\n",
    "    print(\"Processing detector\", exposure.detector.getName())\n",
    "    r = task.run(\n",
    "        exposure,\n",
    "        bias=biases[i],\n",
    "        dark=darks[i],\n",
    "        defects=defects[i],\n",
    "        linearizer=linearizers[i],\n",
    "        crosstalk=crosstalks[i],\n",
    "        ptc=ptcs[i],\n",
    "    )\n",
    "    rs.append(r)\n",
    "\n",
    "r = rs[1]"
   ]
  },
  {
   "cell_type": "markdown",
   "id": "75fd31d6-0e72-487d-922e-1bf6d874bc3e",
   "metadata": {},
   "source": [
    "The result for each exposure is contained in the `rs` list. Each `r` is a struct that contains the exposure and some other useful things like some basic statistics of the image."
   ]
  },
  {
   "cell_type": "code",
   "execution_count": null,
   "id": "005f3117-0432-492f-8400-b9eafe7d54d4",
   "metadata": {},
   "outputs": [],
   "source": [
    "plt.hist(rs[0].exposure.image.array.ravel(), bins=100, histtype='step')\n",
    "plt.xlabel(\"Signal [electron]\")\n",
    "plt.yscale('log')"
   ]
  },
  {
   "cell_type": "code",
   "execution_count": null,
   "id": "dbb7247a-3746-4c3a-a639-6128d356c1e6",
   "metadata": {},
   "outputs": [],
   "source": [
    "from matplotlib.colors import LogNorm, SymLogNorm, AsinhNorm\n",
    "#norm = SymLogNorm(linthresh=3500, vmin=3500, vmax=4000)\n",
    "norm = LogNorm(vmin=3750, vmax=4000)\n",
    "\n",
    "plt.title(detector.getName())\n",
    "plt.imshow(rs[0].exposure.image.array, origin='lower',norm=norm, cmap='binary_r')\n",
    "plt.colorbar()"
   ]
  },
  {
   "cell_type": "markdown",
   "id": "245ff9f0-1175-48c3-ba88-fa8d8fd33a58",
   "metadata": {
    "execution": {
     "iopub.execute_input": "2024-10-07T20:47:50.510371Z",
     "iopub.status.busy": "2024-10-07T20:47:50.510086Z",
     "iopub.status.idle": "2024-10-07T20:47:50.512303Z",
     "shell.execute_reply": "2024-10-07T20:47:50.512005Z",
     "shell.execute_reply.started": "2024-10-07T20:47:50.510355Z"
    }
   },
   "source": [
    "## 5.0 Let's put it all together!"
   ]
  },
  {
   "cell_type": "code",
   "execution_count": null,
   "id": "e19ce683-388f-4029-82df-9aefe5845b62",
   "metadata": {},
   "outputs": [],
   "source": [
    "config = VisualizeMosaicExpTask().ConfigClass()\n",
    "config.binning = 1\n",
    "task = VisualizeMosaicExpTask(config=config)\n",
    "\n",
    "clean_exposures = [r.exposure for r in rs]\n",
    "mosaic = task.run(clean_exposures, camera = camera)"
   ]
  },
  {
   "cell_type": "code",
   "execution_count": null,
   "id": "8092302a-0bdc-4782-9a28-fc856fbf561e",
   "metadata": {},
   "outputs": [],
   "source": [
    "plt.figure(figsize=(15,15))\n",
    "plt.imshow(mosaic.outputData.array, norm=norm,origin='lower', cmap='binary_r')\n",
    "plt.axis('off')"
   ]
  },
  {
   "cell_type": "code",
   "execution_count": null,
   "id": "e49852b4-7407-478f-bd9b-567931e4dcfa",
   "metadata": {},
   "outputs": [],
   "source": []
  }
 ],
 "metadata": {
  "kernelspec": {
   "display_name": "Python 3 (ipykernel)",
   "language": "python",
   "name": "python3"
  },
  "language_info": {
   "codemirror_mode": {
    "name": "ipython",
    "version": 3
   },
   "file_extension": ".py",
   "mimetype": "text/x-python",
   "name": "python",
   "nbconvert_exporter": "python",
   "pygments_lexer": "ipython3",
   "version": "3.11.9"
  }
 },
 "nbformat": 4,
 "nbformat_minor": 5
}
